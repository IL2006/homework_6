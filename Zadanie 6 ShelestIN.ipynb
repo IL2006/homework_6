{
 "cells": [
  {
   "cell_type": "code",
   "execution_count": 3,
   "id": "aeb38333-3383-4ca5-ba40-2ed7450fdf21",
   "metadata": {},
   "outputs": [
    {
     "name": "stdout",
     "output_type": "stream",
     "text": [
      "Снятие наличных: 10 руб. 2024-12-25 21:07:16.075141+00:00\n",
      "Ваш баланс: 90 руб. \n",
      "Пополнение счета: 20 руб. 2024-12-25 21:07:16.075141+00:00\n",
      "Ваш баланс: 110 руб. \n",
      "Снятие средств \u001b[1;31;43m-10\u001b[00m at 2024-12-25 21:07:16.075141+00:00\n",
      "Внесение средств \u001b[0;92;46m20\u001b[00m at 2024-12-25 21:07:16.075141+00:00\n",
      "История операций Alex: \n",
      " [[-10, datetime.datetime(2024, 12, 25, 21, 7, 16, 75141, tzinfo=<UTC>)], [20, datetime.datetime(2024, 12, 25, 21, 7, 16, 75141, tzinfo=<UTC>)]]\n"
     ]
    }
   ],
   "source": [
    "from datetime import datetime\n",
    "import pytz\n",
    "\n",
    "WHITE = \"\\033[00m\"\n",
    "RED = \"\\033[1;31;43m\"\n",
    "GREEN = \"\\033[0;92;46m\"\n",
    "\n",
    "class Account:\n",
    "    def __init__(self, name, start_balance):\n",
    "        self.name = name\n",
    "        self.my_balance = start_balance\n",
    "        self.hist_operation = []\n",
    "    @staticmethod\n",
    "    def _get_local_time():\n",
    "        return pytz.utc.localize(datetime.now())\n",
    "    def sum_balance(self, my_money): #зачисление денег на счет\n",
    "        self.my_balance += my_money\n",
    "        print(f\"Пополнение счета: {my_money} руб. {self._get_local_time()}\")\n",
    "        self.show_my_balance()\n",
    "        self.hist_operation.append([my_money, self._get_local_time()])\n",
    "    def withdraw_money(self, my_money): #снятия денег со счета\n",
    "        if self.my_balance < my_money:\n",
    "            print(f\"Денег на счете недостаточно для снятия {{self._get_local_time()}}\")\n",
    "            self.show_my_balance()\n",
    "        else:\n",
    "            self.my_balance -= my_money\n",
    "            print(f\"Снятие наличных: {my_money} руб. {self._get_local_time()}\")\n",
    "            self.show_my_balance()\n",
    "            self.hist_operation.append([-my_money, self._get_local_time()])\n",
    "    def show_history(self):  #история операции\n",
    "        for my_money, date in self.hist_operation:\n",
    "            if my_money > 0:    \n",
    "                transaction = 'Внесение средств'\n",
    "                color = GREEN\n",
    "            else:\n",
    "                transaction = 'Снятие средств'\n",
    "                color = RED\n",
    "            print(f\"{transaction} {color}{my_money}{WHITE} at {self._get_local_time()}\")\n",
    "    def show_all_history(self):  #история всех операций\n",
    "        print (f\"История операций {self.name}: \\n {self.hist_operation}\")\n",
    "    def show_my_balance(self):   #текущий баланс\n",
    "        print(f\"Ваш баланс: {self.my_balance} руб. \")\n",
    "Client = Account('Alex', 100)\n",
    "Client.withdraw_money(10)\n",
    "Client.sum_balance(20)\n",
    "Client.show_history()\n",
    "Client.show_all_history()"
   ]
  },
  {
   "cell_type": "code",
   "execution_count": null,
   "id": "8936e376-7be6-4d4d-815c-1922b5327727",
   "metadata": {},
   "outputs": [],
   "source": []
  },
  {
   "cell_type": "code",
   "execution_count": null,
   "id": "8bd8066d-d437-46be-a897-68a53572757a",
   "metadata": {},
   "outputs": [],
   "source": []
  }
 ],
 "metadata": {
  "kernelspec": {
   "display_name": "Python 3 (ipykernel)",
   "language": "python",
   "name": "python3"
  },
  "language_info": {
   "codemirror_mode": {
    "name": "ipython",
    "version": 3
   },
   "file_extension": ".py",
   "mimetype": "text/x-python",
   "name": "python",
   "nbconvert_exporter": "python",
   "pygments_lexer": "ipython3",
   "version": "3.12.7"
  }
 },
 "nbformat": 4,
 "nbformat_minor": 5
}
